{
 "cells": [
  {
   "cell_type": "markdown",
   "metadata": {},
   "source": [
    "### IMPORTAR BIBLIOTECAS"
   ]
  },
  {
   "cell_type": "code",
   "execution_count": 34,
   "metadata": {},
   "outputs": [],
   "source": [
    "import pandas as pd\n",
    "import numpy as np\n",
    "import seaborn as sns\n",
    "import matplotlib.pyplot as plt"
   ]
  },
  {
   "cell_type": "markdown",
   "metadata": {},
   "source": [
    "### FONTE DE DADOS\n",
    "\n",
    "Os dados utilizados para esse projeto foram retirados do kaglle, através do link: https://www.kaggle.com/marcusrb/uber-peru-dataset\n",
    "\n",
    "O histórico de cotação (Real x PEN), foi retirado do link: https://br.investing.com/currencies/pen-brl-historical-data\n"
   ]
  },
  {
   "cell_type": "markdown",
   "metadata": {},
   "source": [
    "### EXPLICAÇÃO SOBRE OS DADOS\n",
    "\n",
    "1) UBER_PERU - Esse conjunto de dados apresenta 23.111 corridas através do aplicativo de mobilidade Uber, no país Peru. Cada linha apresenta informações sobre o serviço prestado.\n",
    "\n",
    "2) PEN_BRL - Histórico de cotação da moeda PEN em Real.\n",
    "\n",
    "Os valores do data set estão na moeda PEN (Novo Sol Peruano) no ano em que os serviços foram prestados (2010). Para uma melhor interpretação, a moeda será convertida para Real no valor da epoca.\n",
    "\n",
    "Em seguida farei a importação dos dados, alguns tratamentos, visualizações e extração de insights."
   ]
  },
  {
   "cell_type": "markdown",
   "metadata": {},
   "source": [
    "### ENCONTRANDO (EM REAL) O VALOR DA MOEDA 'PEN' NO ANO DE 2010"
   ]
  },
  {
   "cell_type": "markdown",
   "metadata": {},
   "source": [
    "O DataSet apresenta 5 colunas e representam a variação da moeda ao longo do ano de 2010.\n",
    "\n",
    "Adotaremos a coluna \"Último\" (fechamento do preço no mês) como base de cálculo para a média do ano."
   ]
  },
  {
   "cell_type": "code",
   "execution_count": 35,
   "metadata": {},
   "outputs": [
    {
     "data": {
      "text/html": [
       "<div>\n",
       "<style scoped>\n",
       "    .dataframe tbody tr th:only-of-type {\n",
       "        vertical-align: middle;\n",
       "    }\n",
       "\n",
       "    .dataframe tbody tr th {\n",
       "        vertical-align: top;\n",
       "    }\n",
       "\n",
       "    .dataframe thead th {\n",
       "        text-align: right;\n",
       "    }\n",
       "</style>\n",
       "<table border=\"1\" class=\"dataframe\">\n",
       "  <thead>\n",
       "    <tr style=\"text-align: right;\">\n",
       "      <th></th>\n",
       "      <th>Data</th>\n",
       "      <th>Último</th>\n",
       "      <th>Abertura</th>\n",
       "      <th>Máxima</th>\n",
       "      <th>Mínima</th>\n",
       "      <th>Var%</th>\n",
       "    </tr>\n",
       "  </thead>\n",
       "  <tbody>\n",
       "    <tr>\n",
       "      <th>0</th>\n",
       "      <td>Dez 10</td>\n",
       "      <td>0,5910</td>\n",
       "      <td>0,6050</td>\n",
       "      <td>0,6105</td>\n",
       "      <td>0,5905</td>\n",
       "      <td>-2,38%</td>\n",
       "    </tr>\n",
       "    <tr>\n",
       "      <th>1</th>\n",
       "      <td>Nov 10</td>\n",
       "      <td>0,6054</td>\n",
       "      <td>0,6074</td>\n",
       "      <td>0,6204</td>\n",
       "      <td>0,5975</td>\n",
       "      <td>-0,36%</td>\n",
       "    </tr>\n",
       "    <tr>\n",
       "      <th>2</th>\n",
       "      <td>Out 10</td>\n",
       "      <td>0,6076</td>\n",
       "      <td>0,6051</td>\n",
       "      <td>0,6162</td>\n",
       "      <td>0,5895</td>\n",
       "      <td>0,41%</td>\n",
       "    </tr>\n",
       "  </tbody>\n",
       "</table>\n",
       "</div>"
      ],
      "text/plain": [
       "     Data  Último Abertura  Máxima  Mínima    Var%\n",
       "0  Dez 10  0,5910   0,6050  0,6105  0,5905  -2,38%\n",
       "1  Nov 10  0,6054   0,6074  0,6204  0,5975  -0,36%\n",
       "2  Out 10  0,6076   0,6051  0,6162  0,5895   0,41%"
      ]
     },
     "execution_count": 35,
     "metadata": {},
     "output_type": "execute_result"
    }
   ],
   "source": [
    "pen_brl = pd.read_csv('PEN_BRL_2010.csv')\n",
    "pen_brl.head(3)"
   ]
  },
  {
   "cell_type": "markdown",
   "metadata": {},
   "source": [
    "Isolei a coluna que preciso, em seguia analiso linhas em branco e o tipo de dado.\n",
    "\n",
    "Foi observado que os dados da coluna estão como tipo 'Object', portanto será necessário a conversão."
   ]
  },
  {
   "cell_type": "code",
   "execution_count": 36,
   "metadata": {},
   "outputs": [
    {
     "data": {
      "text/html": [
       "<div>\n",
       "<style scoped>\n",
       "    .dataframe tbody tr th:only-of-type {\n",
       "        vertical-align: middle;\n",
       "    }\n",
       "\n",
       "    .dataframe tbody tr th {\n",
       "        vertical-align: top;\n",
       "    }\n",
       "\n",
       "    .dataframe thead th {\n",
       "        text-align: right;\n",
       "    }\n",
       "</style>\n",
       "<table border=\"1\" class=\"dataframe\">\n",
       "  <thead>\n",
       "    <tr style=\"text-align: right;\">\n",
       "      <th></th>\n",
       "      <th>Último</th>\n",
       "    </tr>\n",
       "  </thead>\n",
       "  <tbody>\n",
       "    <tr>\n",
       "      <th>0</th>\n",
       "      <td>0,5910</td>\n",
       "    </tr>\n",
       "    <tr>\n",
       "      <th>1</th>\n",
       "      <td>0,6054</td>\n",
       "    </tr>\n",
       "    <tr>\n",
       "      <th>2</th>\n",
       "      <td>0,6076</td>\n",
       "    </tr>\n",
       "  </tbody>\n",
       "</table>\n",
       "</div>"
      ],
      "text/plain": [
       "   Último\n",
       "0  0,5910\n",
       "1  0,6054\n",
       "2  0,6076"
      ]
     },
     "metadata": {},
     "output_type": "display_data"
    },
    {
     "name": "stdout",
     "output_type": "stream",
     "text": [
      "<class 'pandas.core.frame.DataFrame'>\n",
      "RangeIndex: 12 entries, 0 to 11\n",
      "Data columns (total 1 columns):\n",
      " #   Column  Non-Null Count  Dtype \n",
      "---  ------  --------------  ----- \n",
      " 0   Último  12 non-null     object\n",
      "dtypes: object(1)\n",
      "memory usage: 224.0+ bytes\n"
     ]
    },
    {
     "data": {
      "text/plain": [
       "None"
      ]
     },
     "metadata": {},
     "output_type": "display_data"
    }
   ],
   "source": [
    "pen_brl = pd.DataFrame(pen_brl['Último'])\n",
    "display(pen_brl.head(3))\n",
    "display(pen_brl.info())\n"
   ]
  },
  {
   "cell_type": "markdown",
   "metadata": {},
   "source": [
    "Fiz a conversao dos valores utilizando as funções apply e lambda, que percorre todo o data set, substituindo virgula por ponto.\n",
    "O valor ainda foi convertido em float."
   ]
  },
  {
   "cell_type": "code",
   "execution_count": 37,
   "metadata": {},
   "outputs": [
    {
     "data": {
      "text/html": [
       "<div>\n",
       "<style scoped>\n",
       "    .dataframe tbody tr th:only-of-type {\n",
       "        vertical-align: middle;\n",
       "    }\n",
       "\n",
       "    .dataframe tbody tr th {\n",
       "        vertical-align: top;\n",
       "    }\n",
       "\n",
       "    .dataframe thead th {\n",
       "        text-align: right;\n",
       "    }\n",
       "</style>\n",
       "<table border=\"1\" class=\"dataframe\">\n",
       "  <thead>\n",
       "    <tr style=\"text-align: right;\">\n",
       "      <th></th>\n",
       "      <th>Último</th>\n",
       "    </tr>\n",
       "  </thead>\n",
       "  <tbody>\n",
       "    <tr>\n",
       "      <th>0</th>\n",
       "      <td>0.5910</td>\n",
       "    </tr>\n",
       "    <tr>\n",
       "      <th>1</th>\n",
       "      <td>0.6054</td>\n",
       "    </tr>\n",
       "    <tr>\n",
       "      <th>2</th>\n",
       "      <td>0.6076</td>\n",
       "    </tr>\n",
       "  </tbody>\n",
       "</table>\n",
       "</div>"
      ],
      "text/plain": [
       "   Último\n",
       "0  0.5910\n",
       "1  0.6054\n",
       "2  0.6076"
      ]
     },
     "metadata": {},
     "output_type": "display_data"
    },
    {
     "name": "stdout",
     "output_type": "stream",
     "text": [
      "<class 'pandas.core.frame.DataFrame'>\n",
      "RangeIndex: 12 entries, 0 to 11\n",
      "Data columns (total 1 columns):\n",
      " #   Column  Non-Null Count  Dtype  \n",
      "---  ------  --------------  -----  \n",
      " 0   Último  12 non-null     float64\n",
      "dtypes: float64(1)\n",
      "memory usage: 224.0 bytes\n"
     ]
    },
    {
     "data": {
      "text/plain": [
       "None"
      ]
     },
     "metadata": {},
     "output_type": "display_data"
    }
   ],
   "source": [
    "pen_brl['Último'] = pen_brl['Último'].apply(lambda x: float(x.replace(',', '.')))\n",
    "display(pen_brl.head(3))\n",
    "display(pen_brl.info())\n"
   ]
  },
  {
   "cell_type": "markdown",
   "metadata": {},
   "source": [
    "Por fim, armazenei a média dos preços em uma variável. Como conversão da moeda, adotaremos a média do ano."
   ]
  },
  {
   "cell_type": "code",
   "execution_count": 38,
   "metadata": {},
   "outputs": [
    {
     "data": {
      "text/plain": [
       "0.62"
      ]
     },
     "metadata": {},
     "output_type": "display_data"
    }
   ],
   "source": [
    "brl_2010 = round(pen_brl['Último'].mean(), 2)\n",
    "display(brl_2010)\n"
   ]
  },
  {
   "cell_type": "markdown",
   "metadata": {},
   "source": [
    "Agora podemos inciar a análise dos dados ded corrida do aplicativo."
   ]
  },
  {
   "cell_type": "markdown",
   "metadata": {},
   "source": [
    "### TRABALHANDO NOS DADOS DO APLICATIVO UBER"
   ]
  },
  {
   "cell_type": "markdown",
   "metadata": {},
   "source": [
    "Nossos dados estão em CSV. Iremos armazenar em uma variável (df). O df apresenta 23.111 registros e 28 colunas, das quais explicarei em seguida."
   ]
  },
  {
   "cell_type": "code",
   "execution_count": 47,
   "metadata": {},
   "outputs": [
    {
     "data": {
      "text/html": [
       "<div>\n",
       "<style scoped>\n",
       "    .dataframe tbody tr th:only-of-type {\n",
       "        vertical-align: middle;\n",
       "    }\n",
       "\n",
       "    .dataframe tbody tr th {\n",
       "        vertical-align: top;\n",
       "    }\n",
       "\n",
       "    .dataframe thead th {\n",
       "        text-align: right;\n",
       "    }\n",
       "</style>\n",
       "<table border=\"1\" class=\"dataframe\">\n",
       "  <thead>\n",
       "    <tr style=\"text-align: right;\">\n",
       "      <th></th>\n",
       "      <th>journey_id</th>\n",
       "      <th>user_id</th>\n",
       "      <th>driver_id</th>\n",
       "      <th>taxi_id</th>\n",
       "      <th>icon</th>\n",
       "      <th>start_type</th>\n",
       "      <th>start_at</th>\n",
       "      <th>start_lat</th>\n",
       "      <th>start_lon</th>\n",
       "      <th>end_at</th>\n",
       "      <th>...</th>\n",
       "      <th>price_distance</th>\n",
       "      <th>price_duration</th>\n",
       "      <th>distance</th>\n",
       "      <th>duration</th>\n",
       "      <th>cost</th>\n",
       "      <th>cost_distance</th>\n",
       "      <th>cost_duration</th>\n",
       "      <th>source</th>\n",
       "      <th>driver_score</th>\n",
       "      <th>rider_score</th>\n",
       "    </tr>\n",
       "  </thead>\n",
       "  <tbody>\n",
       "    <tr>\n",
       "      <th>0</th>\n",
       "      <td>23a1406fc6a11d866e3c82f22eed4d4c</td>\n",
       "      <td>0e9af5bbf1edfe591b54ecdfd7e91e26</td>\n",
       "      <td>583949a89a9ee17d19e3ca4f137b6b4c</td>\n",
       "      <td>b12f4f09c783e29fe0d0ea624530db56</td>\n",
       "      <td>executive</td>\n",
       "      <td>asap</td>\n",
       "      <td>16/11/2010 16:44</td>\n",
       "      <td>-12,13983536</td>\n",
       "      <td>-77,02355957</td>\n",
       "      <td>16/11/2010 17:29</td>\n",
       "      <td>...</td>\n",
       "      <td>3626.0</td>\n",
       "      <td>195.0</td>\n",
       "      <td>11331.0</td>\n",
       "      <td>234.0</td>\n",
       "      <td>0.0</td>\n",
       "      <td>0.0</td>\n",
       "      <td>0.0</td>\n",
       "      <td>iPhone</td>\n",
       "      <td>5.0</td>\n",
       "      <td>5.0</td>\n",
       "    </tr>\n",
       "    <tr>\n",
       "      <th>1</th>\n",
       "      <td>dd2af4715d0dc16eded53afc0e243577</td>\n",
       "      <td>a553c46e3a22fb9c326aeb3d72b3334e</td>\n",
       "      <td>NaN</td>\n",
       "      <td>NaN</td>\n",
       "      <td>executive</td>\n",
       "      <td>asap</td>\n",
       "      <td>01/06/2010 0:34</td>\n",
       "      <td>-12,13874817</td>\n",
       "      <td>-76,99536133</td>\n",
       "      <td>01/06/2010 0:37</td>\n",
       "      <td>...</td>\n",
       "      <td>NaN</td>\n",
       "      <td>NaN</td>\n",
       "      <td>0.0</td>\n",
       "      <td>0.0</td>\n",
       "      <td>0.0</td>\n",
       "      <td>NaN</td>\n",
       "      <td>NaN</td>\n",
       "      <td>iPhone</td>\n",
       "      <td>NaN</td>\n",
       "      <td>NaN</td>\n",
       "    </tr>\n",
       "    <tr>\n",
       "      <th>2</th>\n",
       "      <td>dd91e131888064bf7df3ce08f3d4b4ad</td>\n",
       "      <td>a553c46e3a22fb9c326aeb3d72b3334e</td>\n",
       "      <td>NaN</td>\n",
       "      <td>NaN</td>\n",
       "      <td>executive</td>\n",
       "      <td>asap</td>\n",
       "      <td>31/05/2010 5:01</td>\n",
       "      <td>-12,12453079</td>\n",
       "      <td>-77,02780151</td>\n",
       "      <td>31/05/2010 5:04</td>\n",
       "      <td>...</td>\n",
       "      <td>NaN</td>\n",
       "      <td>NaN</td>\n",
       "      <td>0.0</td>\n",
       "      <td>0.0</td>\n",
       "      <td>0.0</td>\n",
       "      <td>NaN</td>\n",
       "      <td>NaN</td>\n",
       "      <td>iPhone</td>\n",
       "      <td>NaN</td>\n",
       "      <td>NaN</td>\n",
       "    </tr>\n",
       "  </tbody>\n",
       "</table>\n",
       "<p>3 rows × 28 columns</p>\n",
       "</div>"
      ],
      "text/plain": [
       "                         journey_id                           user_id  \\\n",
       "0  23a1406fc6a11d866e3c82f22eed4d4c  0e9af5bbf1edfe591b54ecdfd7e91e26   \n",
       "1  dd2af4715d0dc16eded53afc0e243577  a553c46e3a22fb9c326aeb3d72b3334e   \n",
       "2  dd91e131888064bf7df3ce08f3d4b4ad  a553c46e3a22fb9c326aeb3d72b3334e   \n",
       "\n",
       "                          driver_id                           taxi_id  \\\n",
       "0  583949a89a9ee17d19e3ca4f137b6b4c  b12f4f09c783e29fe0d0ea624530db56   \n",
       "1                               NaN                               NaN   \n",
       "2                               NaN                               NaN   \n",
       "\n",
       "        icon start_type          start_at     start_lat     start_lon  \\\n",
       "0  executive       asap  16/11/2010 16:44  -12,13983536  -77,02355957   \n",
       "1  executive       asap   01/06/2010 0:34  -12,13874817  -76,99536133   \n",
       "2  executive       asap   31/05/2010 5:01  -12,12453079  -77,02780151   \n",
       "\n",
       "             end_at  ... price_distance price_duration distance duration cost  \\\n",
       "0  16/11/2010 17:29  ...         3626.0          195.0  11331.0    234.0  0.0   \n",
       "1   01/06/2010 0:37  ...            NaN            NaN      0.0      0.0  0.0   \n",
       "2   31/05/2010 5:04  ...            NaN            NaN      0.0      0.0  0.0   \n",
       "\n",
       "  cost_distance cost_duration  source  driver_score  rider_score  \n",
       "0           0.0           0.0  iPhone           5.0          5.0  \n",
       "1           NaN           NaN  iPhone           NaN          NaN  \n",
       "2           NaN           NaN  iPhone           NaN          NaN  \n",
       "\n",
       "[3 rows x 28 columns]"
      ]
     },
     "metadata": {},
     "output_type": "display_data"
    },
    {
     "data": {
      "text/plain": [
       "(23111, 28)"
      ]
     },
     "metadata": {},
     "output_type": "display_data"
    }
   ],
   "source": [
    "df = pd.read_csv('uber_peru_2010.csv', sep = ';')\n",
    "display(df.head(3))\n",
    "display(df.shape)\n"
   ]
  },
  {
   "cell_type": "markdown",
   "metadata": {},
   "source": [
    "Vou usar .info() para analisar a qualidade do DF no que diz respeito a valores nulos, faltantes e o formato das variáveis."
   ]
  },
  {
   "cell_type": "code",
   "execution_count": 40,
   "metadata": {},
   "outputs": [
    {
     "name": "stdout",
     "output_type": "stream",
     "text": [
      "<class 'pandas.core.frame.DataFrame'>\n",
      "RangeIndex: 23111 entries, 0 to 23110\n",
      "Data columns (total 28 columns):\n",
      " #   Column            Non-Null Count  Dtype  \n",
      "---  ------            --------------  -----  \n",
      " 0   journey_id        23111 non-null  object \n",
      " 1   user_id           23111 non-null  object \n",
      " 2   driver_id         19726 non-null  object \n",
      " 3   taxi_id           19726 non-null  object \n",
      " 4   icon              23111 non-null  object \n",
      " 5   start_type        23111 non-null  object \n",
      " 6   start_at          23111 non-null  object \n",
      " 7   start_lat         23111 non-null  object \n",
      " 8   start_lon         23111 non-null  object \n",
      " 9   end_at            22835 non-null  object \n",
      " 10  end_lat           23111 non-null  object \n",
      " 11  end_lon           23111 non-null  object \n",
      " 12  end_state         23099 non-null  object \n",
      " 13  driver_start_lat  19621 non-null  object \n",
      " 14  driver_start_lon  19621 non-null  object \n",
      " 15  arrived_at        17716 non-null  object \n",
      " 16  currency          23111 non-null  object \n",
      " 17  price             22713 non-null  float64\n",
      " 18  price_distance    19941 non-null  float64\n",
      " 19  price_duration    19941 non-null  float64\n",
      " 20  distance          22848 non-null  float64\n",
      " 21  duration          22848 non-null  float64\n",
      " 22  cost              21760 non-null  float64\n",
      " 23  cost_distance     18038 non-null  float64\n",
      " 24  cost_duration     18038 non-null  float64\n",
      " 25  source            22988 non-null  object \n",
      " 26  driver_score      7650 non-null   float64\n",
      " 27  rider_score       15390 non-null  float64\n",
      "dtypes: float64(10), object(18)\n",
      "memory usage: 4.9+ MB\n"
     ]
    }
   ],
   "source": [
    "df.info()"
   ]
  },
  {
   "cell_type": "markdown",
   "metadata": {},
   "source": [
    "Em seguida explano o significado das variáveis do data frame.\n",
    "\n",
    "Algumas descrições podem não estar corretas, não encontrei boas referências explicando as variáveis."
   ]
  },
  {
   "cell_type": "markdown",
   "metadata": {},
   "source": [
    "\n",
    "COLUNA|DESCRIÇÃO|OBSERVAÇÃO|DECISÃO\n",
    "---|---|---|---\n",
    "journey_id|Id único referente a cada viagem||Não useremos\n",
    "user_id|Id único referente a passageiro do app||Não useremos\n",
    "driver_id|Id único referente a cada motorista do app||Não useremos\n",
    "taxi_id|Id único referente ao veículo||Não useremos\n",
    "icon|Categoria da viagem|*|\n",
    "start_type|Como a viagem foi iniciada|*|\n",
    "start_at|Partida - Data e hora||Irei separar data da hora\n",
    "start_lat|Partida - Latitude||\n",
    "start_lon|Partida - Longitude||\n",
    "end_at|Chegada - Data e hora||Irei separar data da hora\n",
    "ent_lat|Chegada - Latitude||\n",
    "end_lon|Chegada - Longitude||\n",
    "end_state|Status da viagem|*|\n",
    "driver_start_lat|Motorista - Latitude inicial||\n",
    "driver_start_lon|Motorista - Longitude incial||\n",
    "arrived_at|Motorista - Horário de chegada na origem||Não useremos\n",
    "currency|Moeda|PEN - Novo Sol Peruano|\n",
    "price|Preço total da viagem||\n",
    "price_distance|Preço parcial cobrado pela distância percorrida||Não useremos\n",
    "price_duration|Preço parcial cobrado pela duração da viagem||Não useremos\n",
    "distance|Distância percorrida|Unidade em Decímetros (1km = 10.000dm)|Não useremos\n",
    "duration|Tempo total gasto na viagem||Não useremos\n",
    "cost|Comissão do Motorista|75% MOTORISTA \\| 15% UBER|\n",
    "cost_distance|Custo da Distancia||Não useremos\n",
    "cost_duration|Custo da Duração||Não useremos\n",
    "source|Dispositivo do usuário que solicitou a corrida|iPhone, web, Android, iPad, Wap|\n",
    "driver_score|Pontuação de 1 a 5 estrelas dada ao motorista||\n",
    "rider_score|Pontuação de 1 a 5 estrelas dada ao passageiro||\n",
    "\n",
    "\n",
    "STATUS DA VIAGEM\n",
    "end_state|descrição|\n",
    "---|---\n",
    "drop off|Corrida Com Sucesso||\n",
    "rider cancel|Passageiro Cancelou||\n",
    "not found|Não Encontrado (motor/passag)||\n",
    "driver cancel|Motorista Cancelou||\n",
    "failure|Falha||\n",
    "no show|Passageiro Não Apareceu||\n",
    "\n",
    "\n",
    "TIPO DE VIAGEM\n",
    "start_type|descrição|\n",
    "---|---\n",
    "asap|Normal (assim que possível)||\n",
    "reserved|Reservada/Agendada||\n",
    "delayed|Imediata Com Prioridade||\n",
    "\n",
    "\n",
    "TIPO DE VEÍCULO (base: média de preços das corridas)\n",
    "icon|descrição|\n",
    "---|---\n",
    "executive|Executivo (mais baratas)||\n",
    "group|Grupo (Mais caras)||\n",
    "easy|Simples (Intermediária)||\n",
    "\n"
   ]
  },
  {
   "cell_type": "markdown",
   "metadata": {},
   "source": [
    "Irei fazer uma copia do DF como DF2, somente com as variáveis que utilizarei. Gosto de manter o arquivo original para consultar, se necessário."
   ]
  },
  {
   "cell_type": "code",
   "execution_count": 41,
   "metadata": {},
   "outputs": [
    {
     "data": {
      "text/html": [
       "<div>\n",
       "<style scoped>\n",
       "    .dataframe tbody tr th:only-of-type {\n",
       "        vertical-align: middle;\n",
       "    }\n",
       "\n",
       "    .dataframe tbody tr th {\n",
       "        vertical-align: top;\n",
       "    }\n",
       "\n",
       "    .dataframe thead th {\n",
       "        text-align: right;\n",
       "    }\n",
       "</style>\n",
       "<table border=\"1\" class=\"dataframe\">\n",
       "  <thead>\n",
       "    <tr style=\"text-align: right;\">\n",
       "      <th></th>\n",
       "      <th>icon</th>\n",
       "      <th>start_type</th>\n",
       "      <th>start_at</th>\n",
       "      <th>start_lat</th>\n",
       "      <th>start_lon</th>\n",
       "      <th>end_at</th>\n",
       "      <th>end_lat</th>\n",
       "      <th>end_lon</th>\n",
       "      <th>end_state</th>\n",
       "      <th>driver_start_lat</th>\n",
       "      <th>driver_start_lon</th>\n",
       "      <th>currency</th>\n",
       "      <th>price</th>\n",
       "      <th>cost</th>\n",
       "      <th>source</th>\n",
       "      <th>driver_score</th>\n",
       "      <th>rider_score</th>\n",
       "    </tr>\n",
       "  </thead>\n",
       "  <tbody>\n",
       "    <tr>\n",
       "      <th>0</th>\n",
       "      <td>executive</td>\n",
       "      <td>asap</td>\n",
       "      <td>16/11/2010 16:44</td>\n",
       "      <td>-12,13983536</td>\n",
       "      <td>-77,02355957</td>\n",
       "      <td>16/11/2010 17:29</td>\n",
       "      <td>-12,05537033</td>\n",
       "      <td>-77,0413208</td>\n",
       "      <td>drop off</td>\n",
       "      <td>-12,10825481</td>\n",
       "      <td>-77,0272739</td>\n",
       "      <td>PEN</td>\n",
       "      <td>3821.0</td>\n",
       "      <td>0.0</td>\n",
       "      <td>iPhone</td>\n",
       "      <td>5.0</td>\n",
       "      <td>5.0</td>\n",
       "    </tr>\n",
       "    <tr>\n",
       "      <th>1</th>\n",
       "      <td>executive</td>\n",
       "      <td>asap</td>\n",
       "      <td>01/06/2010 0:34</td>\n",
       "      <td>-12,13874817</td>\n",
       "      <td>-76,99536133</td>\n",
       "      <td>01/06/2010 0:37</td>\n",
       "      <td>-12,12465668</td>\n",
       "      <td>-77,02886963</td>\n",
       "      <td>not found</td>\n",
       "      <td>NaN</td>\n",
       "      <td>NaN</td>\n",
       "      <td>PEN</td>\n",
       "      <td>0.0</td>\n",
       "      <td>0.0</td>\n",
       "      <td>iPhone</td>\n",
       "      <td>NaN</td>\n",
       "      <td>NaN</td>\n",
       "    </tr>\n",
       "    <tr>\n",
       "      <th>2</th>\n",
       "      <td>executive</td>\n",
       "      <td>asap</td>\n",
       "      <td>31/05/2010 5:01</td>\n",
       "      <td>-12,12453079</td>\n",
       "      <td>-77,02780151</td>\n",
       "      <td>31/05/2010 5:04</td>\n",
       "      <td>-12,13883209</td>\n",
       "      <td>-76,99530029</td>\n",
       "      <td>not found</td>\n",
       "      <td>NaN</td>\n",
       "      <td>NaN</td>\n",
       "      <td>PEN</td>\n",
       "      <td>0.0</td>\n",
       "      <td>0.0</td>\n",
       "      <td>iPhone</td>\n",
       "      <td>NaN</td>\n",
       "      <td>NaN</td>\n",
       "    </tr>\n",
       "  </tbody>\n",
       "</table>\n",
       "</div>"
      ],
      "text/plain": [
       "        icon start_type          start_at     start_lat     start_lon  \\\n",
       "0  executive       asap  16/11/2010 16:44  -12,13983536  -77,02355957   \n",
       "1  executive       asap   01/06/2010 0:34  -12,13874817  -76,99536133   \n",
       "2  executive       asap   31/05/2010 5:01  -12,12453079  -77,02780151   \n",
       "\n",
       "             end_at       end_lat       end_lon  end_state driver_start_lat  \\\n",
       "0  16/11/2010 17:29  -12,05537033   -77,0413208   drop off     -12,10825481   \n",
       "1   01/06/2010 0:37  -12,12465668  -77,02886963  not found              NaN   \n",
       "2   31/05/2010 5:04  -12,13883209  -76,99530029  not found              NaN   \n",
       "\n",
       "  driver_start_lon currency   price  cost  source  driver_score  rider_score  \n",
       "0      -77,0272739      PEN  3821.0   0.0  iPhone           5.0          5.0  \n",
       "1              NaN      PEN     0.0   0.0  iPhone           NaN          NaN  \n",
       "2              NaN      PEN     0.0   0.0  iPhone           NaN          NaN  "
      ]
     },
     "metadata": {},
     "output_type": "display_data"
    },
    {
     "name": "stdout",
     "output_type": "stream",
     "text": [
      "<class 'pandas.core.frame.DataFrame'>\n",
      "RangeIndex: 23111 entries, 0 to 23110\n",
      "Data columns (total 17 columns):\n",
      " #   Column            Non-Null Count  Dtype  \n",
      "---  ------            --------------  -----  \n",
      " 0   icon              23111 non-null  object \n",
      " 1   start_type        23111 non-null  object \n",
      " 2   start_at          23111 non-null  object \n",
      " 3   start_lat         23111 non-null  object \n",
      " 4   start_lon         23111 non-null  object \n",
      " 5   end_at            22835 non-null  object \n",
      " 6   end_lat           23111 non-null  object \n",
      " 7   end_lon           23111 non-null  object \n",
      " 8   end_state         23099 non-null  object \n",
      " 9   driver_start_lat  19621 non-null  object \n",
      " 10  driver_start_lon  19621 non-null  object \n",
      " 11  currency          23111 non-null  object \n",
      " 12  price             22713 non-null  float64\n",
      " 13  cost              21760 non-null  float64\n",
      " 14  source            22988 non-null  object \n",
      " 15  driver_score      7650 non-null   float64\n",
      " 16  rider_score       15390 non-null  float64\n",
      "dtypes: float64(4), object(13)\n",
      "memory usage: 3.0+ MB\n"
     ]
    },
    {
     "data": {
      "text/plain": [
       "None"
      ]
     },
     "metadata": {},
     "output_type": "display_data"
    }
   ],
   "source": [
    "# o comando .drop exclui as colunas do df e o parametro axis=1 indica que desejo excluir as colunas\n",
    "df2 = df.drop(['journey_id', 'user_id', 'driver_id', 'taxi_id', 'arrived_at', 'price_distance', 'price_duration', 'distance', 'duration', 'cost_distance', 'cost_duration'], axis = 1)\n",
    "display(df2.head(3))\n",
    "display(df2.info())"
   ]
  },
  {
   "cell_type": "markdown",
   "metadata": {},
   "source": []
  },
  {
   "cell_type": "code",
   "execution_count": null,
   "metadata": {},
   "outputs": [],
   "source": []
  }
 ],
 "metadata": {
  "interpreter": {
   "hash": "0446f69fb1dd2c86108fd70dd831e8c34f3f307dc958cf54746bd95ada1336ce"
  },
  "kernelspec": {
   "display_name": "Python 3.10.0 64-bit",
   "language": "python",
   "name": "python3"
  },
  "language_info": {
   "codemirror_mode": {
    "name": "ipython",
    "version": 3
   },
   "file_extension": ".py",
   "mimetype": "text/x-python",
   "name": "python",
   "nbconvert_exporter": "python",
   "pygments_lexer": "ipython3",
   "version": "3.8.0"
  },
  "orig_nbformat": 4
 },
 "nbformat": 4,
 "nbformat_minor": 2
}
